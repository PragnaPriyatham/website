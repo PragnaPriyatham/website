{
 "cells": [
  {
   "cell_type": "code",
   "execution_count": 4,
   "id": "eb6e2416",
   "metadata": {},
   "outputs": [
    {
     "name": "stdout",
     "output_type": "stream",
     "text": [
      "Defaulting to user installation because normal site-packages is not writeable\n",
      "Collecting groq\n",
      "  Downloading groq-0.11.0-py3-none-any.whl (106 kB)\n",
      "     -------------------------------------- 106.5/106.5 kB 1.2 MB/s eta 0:00:00\n",
      "Requirement already satisfied: pydantic<3,>=1.9.0 in c:\\users\\19407\\appdata\\roaming\\python\\python39\\site-packages (from groq) (1.10.10)\n",
      "Requirement already satisfied: distro<2,>=1.7.0 in c:\\users\\19407\\appdata\\roaming\\python\\python39\\site-packages (from groq) (1.9.0)\n",
      "Requirement already satisfied: sniffio in c:\\programdata\\anaconda3\\lib\\site-packages (from groq) (1.2.0)\n",
      "Requirement already satisfied: httpx<1,>=0.23.0 in c:\\users\\19407\\appdata\\roaming\\python\\python39\\site-packages (from groq) (0.27.2)\n",
      "Requirement already satisfied: anyio<5,>=3.5.0 in c:\\programdata\\anaconda3\\lib\\site-packages (from groq) (3.5.0)\n",
      "Requirement already satisfied: typing-extensions<5,>=4.7 in c:\\users\\19407\\appdata\\roaming\\python\\python39\\site-packages (from groq) (4.12.2)\n",
      "Requirement already satisfied: idna>=2.8 in c:\\programdata\\anaconda3\\lib\\site-packages (from anyio<5,>=3.5.0->groq) (3.3)\n",
      "Requirement already satisfied: httpcore==1.* in c:\\users\\19407\\appdata\\roaming\\python\\python39\\site-packages (from httpx<1,>=0.23.0->groq) (1.0.5)\n",
      "Requirement already satisfied: certifi in c:\\programdata\\anaconda3\\lib\\site-packages (from httpx<1,>=0.23.0->groq) (2022.9.14)\n",
      "Requirement already satisfied: h11<0.15,>=0.13 in c:\\users\\19407\\appdata\\roaming\\python\\python39\\site-packages (from httpcore==1.*->httpx<1,>=0.23.0->groq) (0.14.0)\n",
      "Installing collected packages: groq\n",
      "Successfully installed groq-0.11.0\n",
      "Note: you may need to restart the kernel to use updated packages.\n"
     ]
    }
   ],
   "source": [
    "pip install groq"
   ]
  },
  {
   "cell_type": "code",
   "execution_count": 34,
   "id": "b3be58f8",
   "metadata": {},
   "outputs": [
    {
     "name": "stdout",
     "output_type": "stream",
     "text": [
      "Defaulting to user installation because normal site-packages is not writeable\n",
      "Requirement already satisfied: sqlparse in c:\\users\\19407\\appdata\\roaming\\python\\python39\\site-packages (0.5.1)\n",
      "Note: you may need to restart the kernel to use updated packages.\n"
     ]
    }
   ],
   "source": [
    "pip install sqlparse"
   ]
  },
  {
   "cell_type": "code",
   "execution_count": 1,
   "id": "68e36710",
   "metadata": {},
   "outputs": [
    {
     "name": "stdout",
     "output_type": "stream",
     "text": [
      "Defaulting to user installation because normal site-packages is not writeableNote: you may need to restart the kernel to use updated packages.\n",
      "\n",
      "Collecting mysql-connector-python\n",
      "  Downloading mysql_connector_python-9.0.0-cp39-cp39-win_amd64.whl (14.3 MB)\n",
      "     --------------------------------------- 14.3/14.3 MB 10.7 MB/s eta 0:00:00\n",
      "Installing collected packages: mysql-connector-python\n",
      "Successfully installed mysql-connector-python-9.0.0\n"
     ]
    }
   ],
   "source": [
    "pip install mysql-connector-python"
   ]
  },
  {
   "cell_type": "code",
   "execution_count": 1,
   "id": "6dad8a45",
   "metadata": {},
   "outputs": [],
   "source": [
    "import os\n",
    "from groq import Groq\n",
    "import sqlparse\n",
    "import numpy as np\n",
    "import pandas as pd\n",
    "import mysql.connector\n",
    "import json"
   ]
  },
  {
   "cell_type": "code",
   "execution_count": 2,
   "id": "bab6fa62",
   "metadata": {},
   "outputs": [],
   "source": [
    "# Set the environment variable\n",
    "os.environ['GROQ_API_KEY'] = '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'\n"
   ]
  },
  {
   "cell_type": "code",
   "execution_count": 3,
   "id": "07dc578a",
   "metadata": {},
   "outputs": [],
   "source": [
    "\n",
    "def chat_with_groq(client, prompt, model,response_format):\n",
    "    completion = client.chat.completions.create(\n",
    "        model=model,\n",
    "        messages=[\n",
    "              {\n",
    "                  \"role\": \"user\",\n",
    "                  \"content\": prompt\n",
    "              }\n",
    "          ],\n",
    "        )\n",
    "    response_format=response_format\n",
    "    return completion.choices[0].message.content\n",
    "\n"
   ]
  },
  {
   "cell_type": "code",
   "execution_count": 4,
   "id": "52d3c566",
   "metadata": {},
   "outputs": [],
   "source": [
    "\n",
    "def execute_mysql_query(query):\n",
    "    conn = mysql.connector.connect(\n",
    "            host=\"localhost\",\n",
    "            user=\"root\",\n",
    "            password=\"admin@123\",\n",
    "            database=\"device\"\n",
    "        )\n",
    "    \n",
    "    try:\n",
    "        # Execute the query and fetch the results\n",
    "        cursor = conn.cursor(dictionary=True)  # Use dictionary=True to get results as dicts\n",
    "        cursor.execute(query)\n",
    "        query_result = cursor.fetchall()\n",
    "\n",
    "        # Convert query result to a pandas DataFrame\n",
    "        results_df = pd.DataFrame(query_result)\n",
    "    finally:\n",
    "        # Close the connection\n",
    "        cursor.close()\n",
    "        conn.close()\n",
    "\n",
    "    return results_df\n",
    "\n"
   ]
  },
  {
   "cell_type": "code",
   "execution_count": 5,
   "id": "094b0959",
   "metadata": {},
   "outputs": [],
   "source": [
    "def remove_prefix(text):\n",
    "    print(text)\n",
    "    if '{\"sql\":' in text:\n",
    "        i=text.index(':')\n",
    "        text=text[i+1:]\n",
    "        \n",
    "    elif '{\"error\":' in text:\n",
    "        text=text.replace('{\"error\":','')\n",
    "    text=text.replace('}','')\n",
    "    return text"
   ]
  },
  {
   "cell_type": "code",
   "execution_count": 6,
   "id": "9534b607",
   "metadata": {},
   "outputs": [],
   "source": [
    "def get_summarization(client, user_question, df, model):\n",
    "    \"\"\"\n",
    "    This function generates a summarization prompt based on the user's question and the resulting data. \n",
    "    It then sends this summarization prompt to the Groq API and retrieves the AI's response.\n",
    "\n",
    "    Parameters:\n",
    "    client (Groqcloud): The Groq API client.\n",
    "    user_question (str): The user's question.\n",
    "    df (DataFrame): The DataFrame resulting from the SQL query.\n",
    "    model (str): The AI model to use for the response.\n",
    "\n",
    "    Returns:\n",
    "    str: The content of the AI's response to the summarization prompt.\n",
    "    \"\"\"\n",
    "    prompt = '''\n",
    "      A user asked the following question pertaining to local database tables:\n",
    "    \n",
    "      {user_question}\n",
    "    \n",
    "      To answer the question, a dataframe was returned:\n",
    "    \n",
    "      Dataframe:\n",
    "      {df}\n",
    "\n",
    "    In a few sentences, summarize the data in the table as it pertains to the original user question. Avoid qualifiers like \"based on the data\" and do not comment on the structure or metadata of the table itself\n",
    "  '''.format(user_question = user_question, df = df)\n",
    "\n",
    "    # Response format is set to 'None'\n",
    "    return chat_with_groq(client,prompt,model,None)"
   ]
  },
  {
   "cell_type": "code",
   "execution_count": null,
   "id": "01d5b338",
   "metadata": {},
   "outputs": [
    {
     "name": "stdout",
     "output_type": "stream",
     "text": [
      "Welcome to the MYSQL Query Generator!\n",
      "You can ask questions about the data in the 'devices' Table.\n",
      "Ask a question: show some laptops which costs below 1000\n",
      "{\"sql\": \"SELECT name  FROM device.device AS devices WHERE cost < 1000\"}\n",
      "```sql\n",
      "SELECT name\n",
      "FROM device.device AS devices\n",
      "WHERE cost < 1000\n",
      "```\n",
      "| name     |\n",
      "|:---------|\n",
      "| Laptop A |\n",
      "| Laptop F |\n",
      "Two laptops, Laptop A and Laptop F, cost below $1000.  \n",
      "\n"
     ]
    }
   ],
   "source": [
    "\n",
    "\n",
    "\n",
    "# Use the Llama3 70b model\n",
    "#model = \"llama3-70b-8192\"\n",
    "model = \"gemma2-9b-it\"\n",
    "\n",
    "# Get the Groq API key and create a Groq client\n",
    "groq_api_key = os.getenv('GROQ_API_KEY')\n",
    "client = Groq(\n",
    "  api_key=groq_api_key\n",
    ")\n",
    "\n",
    "print(\"Welcome to the MYSQL Query Generator!\")\n",
    "print(\"You can ask questions about the data in the 'devices' Table.\")\n",
    "\n",
    "# Load the base prompt\n",
    "with open('prompts/base_prompt.txt', 'r') as file:\n",
    "  base_prompt = file.read()\n",
    "\n",
    "while True:\n",
    "    # Get the user's question\n",
    "    user_question = input(\"Ask a question: \")\n",
    "    if user_question:\n",
    "        # Generate the full prompt for the AI\n",
    "        full_prompt = base_prompt.format(user_question=user_question)\n",
    "\n",
    "        # Get the AI's response as text output\n",
    "        llm_response = chat_with_groq(client, full_prompt, model,{\"type\": \"json_object\"})\n",
    "        \n",
    "        print(llm_response)\n",
    "        result_json = json.loads(llm_response)\n",
    "        if 'sql' in result_json:\n",
    "          sql_query = result_json['sql']\n",
    "          results_df = execute_mysql_query(sql_query)\n",
    "\n",
    "          formatted_sql_query = sqlparse.format(sql_query, reindent=True, keyword_case='upper')\n",
    "\n",
    "          print(\"```sql\\n\" + formatted_sql_query + \"\\n```\")\n",
    "          print(results_df.to_markdown(index=False))\n",
    "\n",
    "          summarization = get_summarization(client,user_question,results_df,model)\n",
    "          print(summarization)\n",
    "        elif 'error' in result_json:\n",
    "          print(\"ERROR:\", 'Could not generate valid SQL for this question')\n",
    "          print(result_json['error'])\n",
    "        \n",
    "        \n",
    "        \n",
    "        '''\n",
    "        print(\"response is :\"+llm_response)\n",
    "        sql_query = remove_prefix(llm_response)\n",
    "        print(sql_query)\n",
    "            \n",
    "        results_df = execute_mysql_query(sql_query)\n",
    "        # Format the SQL query for better readability\n",
    "        formatted_sql_query = sqlparse.format(sql_query, reindent=True, keyword_case='upper')\n",
    "\n",
    "        \n",
    "        # Print the SQL query\n",
    "        print(\"```sql\\n\" + formatted_sql_query + \"\\n```\")\n",
    "        \n",
    "        # Print the results of the query in markdown format\n",
    "        print(results_df.to_markdown(index=False))\n",
    "\n",
    "        # Get summarization\n",
    "        summarization = get_summarization(client, user_question, results_df, model)\n",
    "        print(summarization)\n",
    "    elif 'error' in llm_response.lower():\n",
    "        # Handle the error case\n",
    "        print(\"ERROR: Could not generate valid SQL for this question\")\n",
    "        print(llm_response)\n",
    "    else:\n",
    "        # If no SQL or error is found in the response, just print the raw response\n",
    "        print(\"AI Response:\", llm_response)\n",
    "        \n",
    "        '''\n",
    "        "
   ]
  },
  {
   "cell_type": "code",
   "execution_count": null,
   "id": "d53e88be",
   "metadata": {},
   "outputs": [],
   "source": []
  },
  {
   "cell_type": "code",
   "execution_count": null,
   "id": "41223e2d",
   "metadata": {},
   "outputs": [],
   "source": []
  }
 ],
 "metadata": {
  "kernelspec": {
   "display_name": "Python 3 (ipykernel)",
   "language": "python",
   "name": "python3"
  },
  "language_info": {
   "codemirror_mode": {
    "name": "ipython",
    "version": 3
   },
   "file_extension": ".py",
   "mimetype": "text/x-python",
   "name": "python",
   "nbconvert_exporter": "python",
   "pygments_lexer": "ipython3",
   "version": "3.9.13"
  }
 },
 "nbformat": 4,
 "nbformat_minor": 5
}
